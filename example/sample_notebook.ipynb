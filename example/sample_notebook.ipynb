{
 "cells": [
  {
   "cell_type": "code",
   "execution_count": 1,
   "id": "f0486ccf",
   "metadata": {},
   "outputs": [
    {
     "name": "stderr",
     "output_type": "stream",
     "text": [
      "/Users/pratyusht/Downloads/enter/envs/landstac-dev/lib/python3.11/site-packages/pystac_client/item_search.py:925: FutureWarning: get_items() is deprecated, use items() instead\n",
      "  warnings.warn(\n"
     ]
    },
    {
     "name": "stdout",
     "output_type": "stream",
     "text": [
      "Found 3 scenes\n",
      "\n",
      "Scene 1:\n",
      "  ID: LC08_L2SP_038035_20200831_20200906_02_T1_SR\n",
      "  Date: 2020-08-31 18:09:32.852535+00:00\n",
      "  Cloud cover: 2.43%\n",
      "  Collection: landsat-c2l2-sr\n",
      "  Available bands: 17 bands\n",
      "  Sample bands: ['thumbnail', 'reduced_resolution_browse', 'index', 'MTL.json', 'coastal', 'blue', 'green', 'red']...\n",
      "\n",
      "Scene 2:\n",
      "  ID: LE07_L2SP_039035_20200830_20200925_02_T1_SR\n",
      "  Date: 2020-08-30 17:42:30.160759+00:00\n",
      "  Cloud cover: 0%\n",
      "  Collection: landsat-c2l2-sr\n",
      "  Available bands: 17 bands\n",
      "  Sample bands: ['thumbnail', 'reduced_resolution_browse', 'index', 'MTL.json', 'blue', 'green', 'red', 'nir08']...\n",
      "\n",
      "Scene 3:\n",
      "  ID: LC08_L2SP_040035_20200829_20200906_02_T1_SR\n",
      "  Date: 2020-08-29 18:21:53.564774+00:00\n",
      "  Cloud cover: 9.43%\n",
      "  Collection: landsat-c2l2-sr\n",
      "  Available bands: 17 bands\n",
      "  Sample bands: ['thumbnail', 'reduced_resolution_browse', 'index', 'MTL.json', 'coastal', 'blue', 'green', 'red']...\n"
     ]
    }
   ],
   "source": [
    "import landstac as ls\n",
    "from landstac.utils import bbox_tuple, bbox_to_geojson\n",
    "\n",
    "# Define your area of interest (Las Vegas, Nevada)\n",
    "bbox = bbox_tuple(-115.359, 35.6763, -113.6548, 36.4831)\n",
    "geo = bbox_to_geojson(bbox)\n",
    "\n",
    "# Initialize STAC client and search\n",
    "stac = ls.LandsatLookSTAC()\n",
    "items = stac.search(\n",
    "    collections=[\"landsat-c2l2-sr\"],\n",
    "    intersects=geo,\n",
    "    datetime=\"2020-06-01/2020-08-31\",\n",
    "    query={\"eo:cloud_cover\": {\"lte\": 10}},\n",
    "    max_items=3,\n",
    ")\n",
    "\n",
    "print(f\"Found {len(items)} scenes\")\n",
    "\n",
    "# Print basic details of top 3 items\n",
    "for i, item in enumerate(items):\n",
    "    print(f\"\\nScene {i+1}:\")\n",
    "    print(f\"  ID: {item.id}\")\n",
    "    print(f\"  Date: {item.datetime}\")\n",
    "    print(f\"  Cloud cover: {item.properties.get('eo:cloud_cover', 'N/A')}%\")\n",
    "    print(f\"  Collection: {item.collection_id}\")\n",
    "    print(f\"  Available bands: {len(item.assets)} bands\")\n",
    "    print(f\"  Sample bands: {list(item.assets.keys())[:8]}...\")"
   ]
  },
  {
   "cell_type": "code",
   "execution_count": 3,
   "id": "71dc785f",
   "metadata": {},
   "outputs": [],
   "source": [
    "from landstac.auth import ers_login_from_file\n",
    "\n",
    "# Create credentials.json file (keeps credentials out of your code):\n",
    "# {\n",
    "#   \"username\": \"your_usgs_username\",\n",
    "#   \"password\": \"your_usgs_password\",\n",
    "#   \"token\": null\n",
    "# }\n",
    "\n",
    "session = ers_login_from_file(\"../credentials.json\")"
   ]
  },
  {
   "cell_type": "code",
   "execution_count": 8,
   "id": "06963785",
   "metadata": {},
   "outputs": [
    {
     "name": "stdout",
     "output_type": "stream",
     "text": [
      "\n",
      "NIR08 band:\n",
      "  Shape: (1, 7941, 7811)\n",
      "  CRS: EPSG:32612\n",
      "\n",
      "RED band:\n",
      "  Shape: (1, 7941, 7811)\n",
      "  CRS: EPSG:32612\n",
      "\n",
      "GREEN band:\n",
      "  Shape: (1, 7941, 7811)\n",
      "  CRS: EPSG:32612\n",
      "\n",
      "Total bands loaded: 3\n"
     ]
    }
   ],
   "source": [
    "from landstac.read import read_stac_bands\n",
    "\n",
    "# Read bands into xarray DataArrays\n",
    "data_arrays = read_stac_bands(\n",
    "    item=items[0],\n",
    "    bands=[\"nir08\", \"red\", \"green\"],\n",
    "    session=session,\n",
    "    in_memory=True\n",
    ")\n",
    "\n",
    "# Print basic details like shape, number of bands\n",
    "for band_name, array in data_arrays.items():\n",
    "    print(f\"\\n{band_name.upper()} band:\")\n",
    "    print(f\"  Shape: {array.shape}\")\n",
    "    print(f\"  CRS: {array.rio.crs}\")\n",
    "\n",
    "print(f\"\\nTotal bands loaded: {len(data_arrays)}\")"
   ]
  },
  {
   "cell_type": "code",
   "execution_count": 9,
   "id": "aa28b6b4",
   "metadata": {},
   "outputs": [
    {
     "name": "stdout",
     "output_type": "stream",
     "text": [
      "\n",
      "Resolution comparison:\n",
      "Native resolution: (1, 7941, 7811)\n",
      "Overview level 2: (1, 993, 977)\n",
      "Overview is 63.9x smaller\n"
     ]
    }
   ],
   "source": [
    "# Read at overview level 2 (1/4 resolution)\n",
    "overview_res = read_stac_bands(\n",
    "    item=items[0],\n",
    "    bands=[\"nir08\"],\n",
    "    session=session,\n",
    "    overview_level=2,\n",
    "    in_memory=True\n",
    ")\n",
    "\n",
    "print(\"\\nResolution comparison:\")\n",
    "print(f\"Native resolution: {data_arrays['nir08'].shape}\")\n",
    "print(f\"Overview level 2: {overview_res['nir08'].shape}\")\n",
    "\n",
    "native_size = data_arrays['nir08'].size\n",
    "overview_size = overview_res['nir08'].size\n",
    "print(f\"Overview is {native_size / overview_size:.1f}x smaller\")"
   ]
  },
  {
   "cell_type": "code",
   "execution_count": 11,
   "id": "70be375c",
   "metadata": {},
   "outputs": [
    {
     "name": "stdout",
     "output_type": "stream",
     "text": [
      "Downloaded files:\n",
      "  nir08: landsat_data/LC80380352020244LGN00/LC80380352020244LGN00_nir08.tif\n",
      "  red: landsat_data/LC80380352020244LGN00/LC80380352020244LGN00_red.tif\n",
      "  green: landsat_data/LC80380352020244LGN00/LC80380352020244LGN00_green.tif\n",
      "\n",
      "Stacked composite saved to: landsat_data/nrg_composite.tif\n"
     ]
    }
   ],
   "source": [
    "from landstac.download import download_item_bands, stack_bands_to_geotiff\n",
    "\n",
    "# Download specific bands to disk\n",
    "band_files = download_item_bands(\n",
    "    item=items[0],\n",
    "    session=session,\n",
    "    bands=[\"nir08\", \"red\", \"green\"],\n",
    "    out_dir=\"landsat_data\"\n",
    ")\n",
    "\n",
    "print(f\"Downloaded files:\")\n",
    "for band, path in band_files.items():\n",
    "    print(f\"  {band}: {path}\")\n",
    "\n",
    "# Stack bands into a single multi-band GeoTIFF\n",
    "output_path = stack_bands_to_geotiff(\n",
    "    band_paths=band_files,\n",
    "    out_path=\"landsat_data/nrg_composite.tif\",\n",
    "    order=[\"nir08\", \"red\", \"green\"]\n",
    ")\n",
    "\n",
    "print(f\"\\nStacked composite saved to: {output_path}\")"
   ]
  },
  {
   "cell_type": "code",
   "execution_count": 13,
   "id": "c0a6ba1a",
   "metadata": {},
   "outputs": [
    {
     "name": "stderr",
     "output_type": "stream",
     "text": [
      "/Users/pratyusht/Downloads/enter/envs/landstac-dev/lib/python3.11/site-packages/pystac_client/item_search.py:925: FutureWarning: get_items() is deprecated, use items() instead\n",
      "  warnings.warn(\n"
     ]
    },
    {
     "name": "stdout",
     "output_type": "stream",
     "text": [
      "landsat-c2l2-st: 7 scenes\n",
      "  Sample bands: ['thumbnail', 'reduced_resolution_browse', 'index', 'MTL.json', 'TRAD']...\n",
      "landsat-c2l2-sr: 7 scenes\n",
      "  Sample bands: ['thumbnail', 'reduced_resolution_browse', 'index', 'MTL.json', 'coastal']...\n",
      "landsat-c2l1: 6 scenes\n",
      "  Sample bands: ['thumbnail', 'reduced_resolution_browse', 'index', 'MTL.json', 'coastal']...\n"
     ]
    }
   ],
   "source": [
    "# Search multiple collections\n",
    "multi_items = stac.search(\n",
    "    collections=[\n",
    "        \"landsat-c2l2-sr\",   # Surface Reflectance\n",
    "        \"landsat-c2l2-st\",   # Surface Temperature\n",
    "        \"landsat-c2l1\"       # Level-1 (TOA)\n",
    "    ],\n",
    "    intersects=geo,\n",
    "    datetime=\"2020-06-01/2020-08-31\",\n",
    "    query={\"eo:cloud_cover\": {\"lte\": 20}},\n",
    "    max_items=20\n",
    ")\n",
    "\n",
    "# Group results by collection\n",
    "by_collection = {}\n",
    "for item in multi_items:\n",
    "    collection = item.collection_id\n",
    "    if collection not in by_collection:\n",
    "        by_collection[collection] = []\n",
    "    by_collection[collection].append(item)\n",
    "\n",
    "# Show what's available in each collection\n",
    "for collection, items_list in by_collection.items():\n",
    "    print(f\"{collection}: {len(items_list)} scenes\")\n",
    "    if items_list:\n",
    "        sample_bands = list(items_list[0].assets.keys())[:5]\n",
    "        print(f\"  Sample bands: {sample_bands}...\")"
   ]
  },
  {
   "cell_type": "code",
   "execution_count": 14,
   "id": "317a7cf0",
   "metadata": {},
   "outputs": [
    {
     "name": "stdout",
     "output_type": "stream",
     "text": [
      "Bounding box: (-120.5, 35.0, -119.5, 36.0)\n",
      "GeoJSON type: Polygon\n",
      "Coordinates: [[[-120.5, 35.0], [-120.5, 36.0], [-119.5, 36.0], [-119.5, 35.0], [-120.5, 35.0]]]\n",
      "Converted bbox: (-120.5, 35.0, -119.5, 36.0)\n"
     ]
    }
   ],
   "source": [
    "from landstac.utils import bbox_tuple, bbox_to_geojson, ee_polygon_to_bbox\n",
    "\n",
    "# Create bounding box from coordinates\n",
    "bbox = bbox_tuple(-120.5, 35.0, -119.5, 36.0)\n",
    "print(f\"Bounding box: {bbox}\")\n",
    "\n",
    "# Convert to GeoJSON for STAC searches\n",
    "geojson = bbox_to_geojson(bbox)\n",
    "print(f\"GeoJSON type: {geojson['type']}\")\n",
    "print(f\"Coordinates: {geojson['coordinates']}\")\n",
    "\n",
    "# Convert Earth Engine polygon coordinates to bbox\n",
    "ee_coords = [[[-120.5, 35.0], [-119.5, 35.0], [-119.5, 36.0], [-120.5, 36.0]]]\n",
    "converted_bbox = ee_polygon_to_bbox(ee_coords)\n",
    "print(f\"Converted bbox: {converted_bbox}\")"
   ]
  },
  {
   "cell_type": "code",
   "execution_count": null,
   "id": "8b6b71d1",
   "metadata": {},
   "outputs": [],
   "source": []
  }
 ],
 "metadata": {
  "kernelspec": {
   "display_name": "Python (landstac-dev)",
   "language": "python",
   "name": "landstac-dev"
  },
  "language_info": {
   "codemirror_mode": {
    "name": "ipython",
    "version": 3
   },
   "file_extension": ".py",
   "mimetype": "text/x-python",
   "name": "python",
   "nbconvert_exporter": "python",
   "pygments_lexer": "ipython3",
   "version": "3.11.13"
  }
 },
 "nbformat": 4,
 "nbformat_minor": 5
}
